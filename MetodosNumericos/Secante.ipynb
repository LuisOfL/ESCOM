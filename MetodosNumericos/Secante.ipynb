{
 "cells": [
  {
   "cell_type": "markdown",
   "id": "83b6d38e-9dc3-4f1d-b1b5-085754fec930",
   "metadata": {},
   "source": [
    "# Secante"
   ]
  },
  {
   "cell_type": "markdown",
   "id": "ca22855d-4073-42b7-8da8-d60891ee47c8",
   "metadata": {},
   "source": [
    "## Declaramos funciones"
   ]
  },
  {
   "cell_type": "code",
   "execution_count": 13,
   "id": "dc462371-8e66-45ae-94ef-c877f460d2a6",
   "metadata": {},
   "outputs": [],
   "source": [
    "def f(x):\n",
    "    return x**2"
   ]
  },
  {
   "cell_type": "markdown",
   "id": "57304da7-3ba3-4e6a-867f-1e82ff1e435f",
   "metadata": {},
   "source": [
    "version normal  \n",
    "-usa la formula de la secante "
   ]
  },
  {
   "cell_type": "code",
   "execution_count": 46,
   "id": "64effa39-ee3c-409b-a938-76dd02f7e52f",
   "metadata": {},
   "outputs": [
    {
     "name": "stdout",
     "output_type": "stream",
     "text": [
      "Raíz aproximada: -0.020621353954687276\n"
     ]
    }
   ],
   "source": [
    "def Secante1(f, x0, x1):\n",
    "    for i in range(50):\n",
    "        if f(x1) - f(x0) == 0:\n",
    "            return \"Error (No se puede dividir entre 0)\"\n",
    "        x2 = x1 - f(x1) * (x1 - x0) / (f(x1) - f(x0))\n",
    "        \n",
    "        if abs(f(x2)) < 0.001:\n",
    "            return x2\n",
    "        x0, x1 = x1, x2\n",
    "    return X2\n",
    "\n",
    "\n",
    "res = Secante1(f, -34, 152)\n",
    "print(\"Raíz aproximada:\", res)"
   ]
  },
  {
   "cell_type": "markdown",
   "id": "34955d46-07fa-46c4-900e-c27da4394bd6",
   "metadata": {},
   "source": [
    "version  \n",
    "-usa la formula de la secante, pero ahora funciona con un while"
   ]
  },
  {
   "cell_type": "code",
   "execution_count": 48,
   "id": "e7bd6c40-7819-4a8d-b9bd-fe31df51a028",
   "metadata": {},
   "outputs": [
    {
     "name": "stdout",
     "output_type": "stream",
     "text": [
      "Raíz aproximada: -0.0011491886079118782\n"
     ]
    }
   ],
   "source": [
    "def Secante2(f, x0, x1):\n",
    "    i = 0\n",
    "    while i < 50:\n",
    "        if f(x1) - f(x0) == 0:\n",
    "            break\n",
    "        x2 = x1 - f(x1)*(x1 - x0) / (f(x1) - f(x0))\n",
    "        if abs(x2 - x1) < 0.001:\n",
    "            return x2\n",
    "        x0, x1 = x1, x2\n",
    "        iter_count += 1\n",
    "    return x1\n",
    "\n",
    "res = Secante2(f, -34, 152)\n",
    "print(\"Raíz aproximada:\", res)"
   ]
  },
  {
   "cell_type": "markdown",
   "id": "f72b78a6-7ecb-4175-aa1b-dbf361f9593f",
   "metadata": {},
   "source": [
    "version suympy  \n",
    "-usa calculos con sympy"
   ]
  },
  {
   "cell_type": "code",
   "execution_count": 90,
   "id": "06d2ee4b-4f36-4258-b828-10b1ecb96e7a",
   "metadata": {},
   "outputs": [
    {
     "name": "stdout",
     "output_type": "stream",
     "text": [
      "Raíz aproximada:8.142134369603416e-109\n"
     ]
    }
   ],
   "source": [
    "import sympy as sp\n",
    "\n",
    "def Secante3(expr, x0, x1):\n",
    "    x = sp.symbols(\"x\")\n",
    "    f = sp.lambdify(x, expr, \"math\")\n",
    "\n",
    "    while True:\n",
    "        f0, f1 = f(x0), f(x1)\n",
    "        if f1 - f0 == 0:\n",
    "            raise ValueError(\"División por cero\")\n",
    "        x2 = x1 - f1 * (x1 - x0) / (f1 - f0)\n",
    "        if x2 == x1:  \n",
    "            break\n",
    "        x0, x1 = x1, x2\n",
    "\n",
    "    return x2\n",
    "\n",
    "expr = sp.sympify(\"x**2\")\n",
    "print(f\"Raíz aproximada:{Secante3(expr, -34, 42)}\")"
   ]
  },
  {
   "cell_type": "markdown",
   "id": "98c7db50-c533-47d5-a2e7-83960e7c88a5",
   "metadata": {},
   "source": [
    "Metodo con listas  \n",
    "--guarda en una lista los valores de l[x0-primer valor de x, x1-segundo valor de x]"
   ]
  },
  {
   "cell_type": "code",
   "execution_count": 75,
   "id": "9526d6c2-73d7-4304-8f4b-e447a53ba03d",
   "metadata": {},
   "outputs": [
    {
     "name": "stdout",
     "output_type": "stream",
     "text": [
      "[[-34, 152, -43.796610169491515], [152, -43.796610169491515, -61.523809523809504], [-43.796610169491515, -61.523809523809504, -25.58415841584157], [-61.523809523809504, -25.58415841584157, -18.06993006993006], [-25.58415841584157, -18.06993006993006, -10.590163934426224], [-18.06993006993006, -10.590163934426224, -6.677002583979325], [-10.590163934426224, -6.677002583979325, -4.095087163232962], [-6.677002583979325, -4.095087163232962, -2.538310412573672], [-4.095087163232962, -2.538310412573672, -1.5670103092783498], [-2.538310412573672, -1.5670103092783498, -0.9688788901387321], [-1.5670103092783498, -0.9688788901387321, -0.5987025023169599], [-0.9688788901387321, -0.5987025023169599, -0.3700415294286121], [-0.5987025023169599, -0.3700415294286121, -0.22869280467297978], [-0.3700415294286121, -0.22869280467297978, -0.1413412099332676], [-0.22869280467297978, -0.1413412099332676, -0.08735336871640573], [-0.1413412099332676, -0.08735336871640573, -0.05398742243486615], [-0.08735336871640573, -0.05398742243486615, -0.033366045142296345], [-0.05398742243486615, -0.033366045142296345, -0.020621353954687276]]\n",
      "Raiz: -0.020621353954687276\n"
     ]
    }
   ],
   "source": [
    "def Secante4(f, x0, x1, tol=1e-3, max_iter=50):\n",
    "    l = []\n",
    "    for i in range(max_iter):\n",
    "        if f(x1) - f(x0) == 0:\n",
    "            return \"Error (No se puede dividir entre 0)\", l\n",
    "        x2 = x1 - f(x1) * (x1 - x0) / (f(x1) - f(x0))\n",
    "        l.append([x0, x1, x2])\n",
    "        if abs(f(x2)) < tol:\n",
    "            return x2, l\n",
    "        x0, x1 = x1, x2\n",
    "    return x2, l\n",
    "\n",
    "res, l = Secante1(f, -34, 152)\n",
    "print(l)\n",
    "print(f'Raiz aproximada: {res}')"
   ]
  },
  {
   "cell_type": "code",
   "execution_count": 84,
   "id": "fd58e37d-7f9c-48a7-8394-6a88c2dff7d0",
   "metadata": {},
   "outputs": [
    {
     "name": "stdout",
     "output_type": "stream",
     "text": [
      "Raíz aproximada: 0.006211180124223602\n"
     ]
    }
   ],
   "source": [
    "def Secante5(f, x0, x1,i=0):\n",
    "    f0, f1 = f(x0), f(x1)\n",
    "    if f1 - f0 == 0:\n",
    "        raise ValueError(\"División por cero\")\n",
    "    \n",
    "    x2 = x1 - f1 * (x1 - x0) / (f1 - f0)\n",
    "    \n",
    "    if abs(f(x2)) < 0.0001 or i >= 50:\n",
    "        return x2\n",
    "    \n",
    "    return Secante5(f, x1, x2,i + 1)\n",
    "\n",
    "\n",
    "raiz = Secante5(f, 1, 2)\n",
    "print(\"Raíz aproximada:\", raiz)\n"
   ]
  },
  {
   "cell_type": "code",
   "execution_count": null,
   "id": "41227dcd-e46d-4703-bbee-ce4dce17a63e",
   "metadata": {},
   "outputs": [],
   "source": []
  }
 ],
 "metadata": {
  "kernelspec": {
   "display_name": "Python [conda env:base] *",
   "language": "python",
   "name": "conda-base-py"
  },
  "language_info": {
   "codemirror_mode": {
    "name": "ipython",
    "version": 3
   },
   "file_extension": ".py",
   "mimetype": "text/x-python",
   "name": "python",
   "nbconvert_exporter": "python",
   "pygments_lexer": "ipython3",
   "version": "3.12.7"
  }
 },
 "nbformat": 4,
 "nbformat_minor": 5
}
