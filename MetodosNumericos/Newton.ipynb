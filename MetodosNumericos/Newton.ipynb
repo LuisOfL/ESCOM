{
 "cells": [
  {
   "cell_type": "markdown",
   "id": "8e521706-50d6-4d41-95a2-ff9fb103f50d",
   "metadata": {},
   "source": [
    "# Newton-Raphson:"
   ]
  },
  {
   "cell_type": "markdown",
   "id": "83339ce7-a918-492a-b97e-5edd3a9d794c",
   "metadata": {},
   "source": [
    "### Declaramos las funciones\n"
   ]
  },
  {
   "cell_type": "code",
   "execution_count": 52,
   "id": "0cd0945b-e1f7-4611-9425-aa56bef03113",
   "metadata": {},
   "outputs": [],
   "source": [
    "def f(x):\n",
    "    return x**2\n",
    "f_e = x**2\n",
    "def df(x):\n",
    "    return 2*x"
   ]
  },
  {
   "cell_type": "markdown",
   "id": "7d21db52-7a86-4b14-b2c1-dc5d6e7bafda",
   "metadata": {},
   "source": [
    "version normal  \n",
    "-solo itera usando la formula"
   ]
  },
  {
   "cell_type": "code",
   "execution_count": 69,
   "id": "134d14e3-957b-4071-9a49-bd7a5d678543",
   "metadata": {},
   "outputs": [
    {
     "name": "stdout",
     "output_type": "stream",
     "text": [
      "x = 5.0, f(x) = 25.0\n",
      "x = 2.5, f(x) = 6.25\n",
      "x = 1.25, f(x) = 1.5625\n",
      "x = 0.625, f(x) = 0.390625\n",
      "x = 0.3125, f(x) = 0.09765625\n",
      "x = 0.15625, f(x) = 0.0244140625\n",
      "x = 0.078125, f(x) = 0.006103515625\n",
      "x = 0.0390625, f(x) = 0.00152587890625\n",
      "x = 0.01953125, f(x) = 0.0003814697265625\n",
      "Raíz aproximada: 0.01953125\n"
     ]
    }
   ],
   "source": [
    "def NewtonR1(f,df,x0):\n",
    "    x = x0\n",
    "    for i in range(50):\n",
    "        if df(x) == 0:\n",
    "            return 'Error (Derivada igual a 0)'\n",
    "        x_new = x -(f(x)/df(x))\n",
    "        print(f\"x = {x_new}, f(x) = {f(x_new)}\")\n",
    "        if abs(f(x_new)) < 0.001:\n",
    "            return x_new\n",
    "        x = x_new\n",
    "    return x\n",
    "    \n",
    "res = NewtonR1(f, df, 10)\n",
    "print(\"Raíz aproximada:\", res)"
   ]
  },
  {
   "cell_type": "markdown",
   "id": "19e9d495-b1db-44a3-8847-b43b105ddbf1",
   "metadata": {},
   "source": [
    "version sympy  \n",
    "-itera como la anterior, pero en lugar de ingresar la deriva, la deriva automaticamente con sympy"
   ]
  },
  {
   "cell_type": "code",
   "execution_count": 71,
   "id": "ce226f0e-cd2c-44b2-94ad-c0848dec1990",
   "metadata": {},
   "outputs": [
    {
     "name": "stdout",
     "output_type": "stream",
     "text": [
      "x = 5.0, f(x) = 100\n",
      "x = 2.5, f(x) = 25.0\n",
      "x = 1.25, f(x) = 6.25\n",
      "x = 0.625, f(x) = 1.5625\n",
      "x = 0.3125, f(x) = 0.390625\n",
      "x = 0.15625, f(x) = 0.09765625\n",
      "x = 0.078125, f(x) = 0.0244140625\n",
      "x = 0.0390625, f(x) = 0.006103515625\n",
      "x = 0.01953125, f(x) = 0.00152587890625\n",
      "x = 0.009765625, f(x) = 0.0003814697265625\n",
      "x = 0.0048828125, f(x) = 9.5367431640625e-05\n",
      "x = 0.00244140625, f(x) = 2.384185791015625e-05\n",
      "x = 0.001220703125, f(x) = 5.9604644775390625e-06\n",
      "x = 0.0006103515625, f(x) = 1.4901161193847656e-06\n",
      "x = 0.00030517578125, f(x) = 3.725290298461914e-07\n",
      "x = 0.000152587890625, f(x) = 9.313225746154785e-08\n",
      "x = 7.62939453125e-05, f(x) = 2.3283064365386963e-08\n",
      "Raíz aproximada: (7.62939453125e-05, 17)\n"
     ]
    }
   ],
   "source": [
    "import sympy as sp\n",
    "\n",
    "def NewtonR2(expr, x0):\n",
    "    x = sp.symbols(\"x\")\n",
    "    f = sp.lambdify(x, expr, \"math\")\n",
    "    df = sp.lambdify(x, sp.diff(expr, x), \"math\")\n",
    "    xn = x0\n",
    "    for i in range(50):\n",
    "        fx = f(xn)\n",
    "        dfx = df(xn)\n",
    "        xn1 = xn - fx/dfx\n",
    "        print(f\"x = {xn1}, f(x) = {fx}\")\n",
    "        if abs(xn1 - xn) < 0.0001:\n",
    "            return xn1, i+1\n",
    "        xn = xn1\n",
    "    return xn\n",
    "x = sp.symbols(\"x\")\n",
    "res = NewtonR2(f_e, 10)\n",
    "print(\"Raíz aproximada:\", res)\n",
    "\n"
   ]
  },
  {
   "cell_type": "markdown",
   "id": "8da2a9c4-5c47-4143-b892-1c3269afced9",
   "metadata": {},
   "source": [
    "tercera version\n",
    "-guarda los resultados en una lista con la siguente forma(x-el valor de x,fx- el valor de y)"
   ]
  },
  {
   "cell_type": "code",
   "execution_count": 109,
   "id": "dcf1f5e7-5f37-4ee5-aaa7-ccfb82f5cef4",
   "metadata": {},
   "outputs": [
    {
     "name": "stdout",
     "output_type": "stream",
     "text": [
      "Raíz aproximada: [(10, 75), (6.25, 14.0625), (5.125, 1.265625), (5.001524390243903, 0.015246226204645552), (5.000000232305736, 2.32305741931782e-06)]\n"
     ]
    }
   ],
   "source": [
    "def NewtonR3(f, df, x0):\n",
    "    res = []\n",
    "    x = x0\n",
    "    for i in range(50):\n",
    "        fx = f(x)\n",
    "        dfx = df(x)\n",
    "        if dfx == 0:\n",
    "            break\n",
    "        x_new = x - fx/dfx\n",
    "        res.append((x, fx))\n",
    "        if abs(x_new - x) < 0.0001:\n",
    "            break\n",
    "        x = x_new\n",
    "    return res\n",
    "    \n",
    "res = NewtonR3(f, df, 10)\n",
    "print(\"Raíz aproximada:\", res)"
   ]
  },
  {
   "cell_type": "markdown",
   "id": "055aa5fb-ba58-49f5-a474-67b97ddf5eae",
   "metadata": {},
   "source": [
    "cuarta version  \n",
    "-usa la version normal, solo que ahora usa un while"
   ]
  },
  {
   "cell_type": "code",
   "execution_count": 7,
   "id": "d9db22d8-60e9-428c-908a-2b769e549ebe",
   "metadata": {},
   "outputs": [
    {
     "name": "stdout",
     "output_type": "stream",
     "text": [
      "x = 5.2, f(x) = 23.040000000000003\n",
      "x = 2.9846153846153847, f(x) = 4.907928994082841\n",
      "x = 2.1624107850911973, f(x) = 0.676020403478728\n",
      "x = 2.006099040777959, f(x) = 0.024433361410247656\n",
      "x = 2.00000927130158, f(x) = 3.70852922761955e-05\n",
      "Raíz aproximada: 2.00000927130158\n"
     ]
    }
   ],
   "source": [
    "def NewtonR4(f, df, x0):\n",
    "    x = x0\n",
    "    iteracion = 0\n",
    "    max_iter = 50\n",
    "    \n",
    "    while iteracion < max_iter:\n",
    "        if df(x) == 0:\n",
    "            return 'Error (Derivada igual a 0)'\n",
    "        x_new = x - (f(x) / df(x))\n",
    "        print(f\"x = {x_new}, f(x) = {f(x_new)}\")\n",
    "        if abs(f(x_new)) < 0.001:\n",
    "            return x_new\n",
    "        \n",
    "        x = x_new\n",
    "        iteracion += 1\n",
    "    \n",
    "    print(f\"Máximo de iteraciones alcanzado ({max_iter})\")\n",
    "    return x\n",
    "\n",
    "\n",
    "res = NewtonR4(f, df, 10)\n",
    "print(\"Raíz aproximada:\", res)"
   ]
  },
  {
   "cell_type": "markdown",
   "id": "d1fb5cc2-a461-4c1a-99af-b3343d8bf23b",
   "metadata": {},
   "source": [
    "quinta version  \n",
    "-ahora en lugar de ver si y esta cerca de 0, ve si la diferencia es cercana a 0"
   ]
  },
  {
   "cell_type": "code",
   "execution_count": 101,
   "id": "33f72acb-38e0-4a04-a4c4-1c7f764dd784",
   "metadata": {},
   "outputs": [
    {
     "name": "stdout",
     "output_type": "stream",
     "text": [
      "x = 10, f(x) = 75\n",
      "x = 6.25, f(x) = 14.0625\n",
      "x = 5.125, f(x) = 1.265625\n",
      "x = 5.001524390243903, f(x) = 0.015246226204645552\n",
      "x = 5.000000232305736, f(x) = 2.32305741931782e-06\n",
      "\n",
      "Raíz aproximada: (5.000000000000005, 'Convergió en 5 iteraciones')\n"
     ]
    }
   ],
   "source": [
    "def newtonR5(f, df, x0):\n",
    "    x = x0\n",
    "    for i in range(50):\n",
    "        fx, dfx = f(x), df(x)\n",
    "        print(f\"x = {x}, f(x) = {fx}\") \n",
    "        if dfx == 0: \n",
    "            return None, f\"Derivada cero en iteración {i}\"\n",
    "        x_new = x - fx/dfx\n",
    "        if abs(x_new - x) < 0.001: \n",
    "            return x_new, f\"Convergió en {i+1} iteraciones\"\n",
    "        x = x_new\n",
    "    return x\n",
    "\n",
    "\n",
    "raiz = newtonR5(f, df, 10)\n",
    "print(f\"\\nRaíz aproximada: {raiz}\")\n"
   ]
  },
  {
   "cell_type": "code",
   "execution_count": null,
   "id": "bc686c6b-c121-40f9-8e33-0a3712291721",
   "metadata": {},
   "outputs": [],
   "source": []
  }
 ],
 "metadata": {
  "kernelspec": {
   "display_name": "Python [conda env:Curso]",
   "language": "python",
   "name": "conda-env-Curso-py"
  },
  "language_info": {
   "codemirror_mode": {
    "name": "ipython",
    "version": 3
   },
   "file_extension": ".py",
   "mimetype": "text/x-python",
   "name": "python",
   "nbconvert_exporter": "python",
   "pygments_lexer": "ipython3",
   "version": "3.12.8"
  }
 },
 "nbformat": 4,
 "nbformat_minor": 5
}
