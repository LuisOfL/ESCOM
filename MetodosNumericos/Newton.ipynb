{
 "cells": [
  {
   "cell_type": "markdown",
   "id": "8e521706-50d6-4d41-95a2-ff9fb103f50d",
   "metadata": {},
   "source": [
    "# Newton-Raphson:"
   ]
  },
  {
   "cell_type": "markdown",
   "id": "83339ce7-a918-492a-b97e-5edd3a9d794c",
   "metadata": {},
   "source": [
    "### Declaramos las funciones\n"
   ]
  },
  {
   "cell_type": "code",
   "execution_count": 52,
   "id": "0cd0945b-e1f7-4611-9425-aa56bef03113",
   "metadata": {},
   "outputs": [],
   "source": [
    "def f(x):\n",
    "    return x**2\n",
    "f_e = x**2\n",
    "def df(x):\n",
    "    return 2*x"
   ]
  },
  {
   "cell_type": "markdown",
   "id": "7d21db52-7a86-4b14-b2c1-dc5d6e7bafda",
   "metadata": {},
   "source": [
    "version normal"
   ]
  },
  {
   "cell_type": "code",
   "execution_count": 69,
   "id": "134d14e3-957b-4071-9a49-bd7a5d678543",
   "metadata": {},
   "outputs": [
    {
     "name": "stdout",
     "output_type": "stream",
     "text": [
      "x = 5.0, f(x) = 25.0\n",
      "x = 2.5, f(x) = 6.25\n",
      "x = 1.25, f(x) = 1.5625\n",
      "x = 0.625, f(x) = 0.390625\n",
      "x = 0.3125, f(x) = 0.09765625\n",
      "x = 0.15625, f(x) = 0.0244140625\n",
      "x = 0.078125, f(x) = 0.006103515625\n",
      "x = 0.0390625, f(x) = 0.00152587890625\n",
      "x = 0.01953125, f(x) = 0.0003814697265625\n",
      "Raíz aproximada: 0.01953125\n"
     ]
    }
   ],
   "source": [
    "def NewtonR1(f,df,x0):\n",
    "    x = x0\n",
    "    for i in range(50):\n",
    "        if df(x) == 0:\n",
    "            return 'Error (Derivada igual a 0)'\n",
    "        x_new = x -(f(x)/df(x))\n",
    "        print(f\"x = {x_new}, f(x) = {f(x_new)}\")\n",
    "        if abs(f(x_new)) < 0.001:\n",
    "            return x_new\n",
    "        x = x_new\n",
    "    return x\n",
    "    \n",
    "res = NewtonR1(f, df, 10)\n",
    "print(\"Raíz aproximada:\", res)"
   ]
  },
  {
   "cell_type": "markdown",
   "id": "19e9d495-b1db-44a3-8847-b43b105ddbf1",
   "metadata": {},
   "source": [
    "version sympy"
   ]
  },
  {
   "cell_type": "code",
   "execution_count": 71,
   "id": "ce226f0e-cd2c-44b2-94ad-c0848dec1990",
   "metadata": {},
   "outputs": [
    {
     "name": "stdout",
     "output_type": "stream",
     "text": [
      "x = 5.0, f(x) = 100\n",
      "x = 2.5, f(x) = 25.0\n",
      "x = 1.25, f(x) = 6.25\n",
      "x = 0.625, f(x) = 1.5625\n",
      "x = 0.3125, f(x) = 0.390625\n",
      "x = 0.15625, f(x) = 0.09765625\n",
      "x = 0.078125, f(x) = 0.0244140625\n",
      "x = 0.0390625, f(x) = 0.006103515625\n",
      "x = 0.01953125, f(x) = 0.00152587890625\n",
      "x = 0.009765625, f(x) = 0.0003814697265625\n",
      "x = 0.0048828125, f(x) = 9.5367431640625e-05\n",
      "x = 0.00244140625, f(x) = 2.384185791015625e-05\n",
      "x = 0.001220703125, f(x) = 5.9604644775390625e-06\n",
      "x = 0.0006103515625, f(x) = 1.4901161193847656e-06\n",
      "x = 0.00030517578125, f(x) = 3.725290298461914e-07\n",
      "x = 0.000152587890625, f(x) = 9.313225746154785e-08\n",
      "x = 7.62939453125e-05, f(x) = 2.3283064365386963e-08\n",
      "Raíz aproximada: (7.62939453125e-05, 17)\n"
     ]
    }
   ],
   "source": [
    "import sympy as sp\n",
    "\n",
    "def NewtonR2(expr, x0):\n",
    "    x = sp.symbols(\"x\")\n",
    "    f = sp.lambdify(x, expr, \"math\")\n",
    "    df = sp.lambdify(x, sp.diff(expr, x), \"math\")\n",
    "    xn = x0\n",
    "    for i in range(50):\n",
    "        fx = f(xn)\n",
    "        dfx = df(xn)\n",
    "        xn1 = xn - fx/dfx\n",
    "        print(f\"x = {xn1}, f(x) = {fx}\")\n",
    "        if abs(xn1 - xn) < 0.0001:\n",
    "            return xn1, i+1\n",
    "        xn = xn1\n",
    "    return xn\n",
    "x = sp.symbols(\"x\")\n",
    "res = NewtonR2(f_e, 10)\n",
    "print(\"Raíz aproximada:\", res)\n",
    "\n"
   ]
  },
  {
   "cell_type": "markdown",
   "id": "8da2a9c4-5c47-4143-b892-1c3269afced9",
   "metadata": {},
   "source": [
    "tercera version"
   ]
  },
  {
   "cell_type": "code",
   "execution_count": 77,
   "id": "dcf1f5e7-5f37-4ee5-aaa7-ccfb82f5cef4",
   "metadata": {},
   "outputs": [
    {
     "name": "stdout",
     "output_type": "stream",
     "text": [
      "Raíz aproximada: [(0, 10, 100, 20, 5.0), (1, 5.0, 25.0, 10.0, 2.5), (2, 2.5, 6.25, 5.0, 1.25), (3, 1.25, 1.5625, 2.5, 0.625), (4, 0.625, 0.390625, 1.25, 0.3125), (5, 0.3125, 0.09765625, 0.625, 0.15625), (6, 0.15625, 0.0244140625, 0.3125, 0.078125), (7, 0.078125, 0.006103515625, 0.15625, 0.0390625), (8, 0.0390625, 0.00152587890625, 0.078125, 0.01953125), (9, 0.01953125, 0.0003814697265625, 0.0390625, 0.009765625), (10, 0.009765625, 9.5367431640625e-05, 0.01953125, 0.0048828125), (11, 0.0048828125, 2.384185791015625e-05, 0.009765625, 0.00244140625), (12, 0.00244140625, 5.9604644775390625e-06, 0.0048828125, 0.001220703125), (13, 0.001220703125, 1.4901161193847656e-06, 0.00244140625, 0.0006103515625), (14, 0.0006103515625, 3.725290298461914e-07, 0.001220703125, 0.00030517578125), (15, 0.00030517578125, 9.313225746154785e-08, 0.0006103515625, 0.000152587890625), (16, 0.000152587890625, 2.3283064365386963e-08, 0.00030517578125, 7.62939453125e-05)]\n"
     ]
    }
   ],
   "source": [
    "def NewtonR3(f, df, x0):\n",
    "    resultados = []\n",
    "    x = x0\n",
    "    for i in range(50):\n",
    "        fx = f(x)\n",
    "        dfx = df(x)\n",
    "        if dfx == 0:\n",
    "            break\n",
    "        x_new = x - fx/dfx\n",
    "        resultados.append((i, x, fx, dfx, x_new))\n",
    "        if abs(x_new - x) < 0.0001:\n",
    "            break\n",
    "        x = x_new\n",
    "    return resultados\n",
    "    \n",
    "res = NewtonR3(f, df, 10)\n",
    "print(\"Raíz aproximada:\", res)"
   ]
  },
  {
   "cell_type": "markdown",
   "id": "055aa5fb-ba58-49f5-a474-67b97ddf5eae",
   "metadata": {},
   "source": [
    "cuarta version"
   ]
  },
  {
   "cell_type": "code",
   "execution_count": 87,
   "id": "d9db22d8-60e9-428c-908a-2b769e549ebe",
   "metadata": {},
   "outputs": [
    {
     "name": "stdout",
     "output_type": "stream",
     "text": [
      "x = 6.25, f(x) = 75.0\n",
      "x = 5.125, f(x) = 14.0625\n",
      "x = 5.001524390243903, f(x) = 1.265625\n",
      "x = 5.000000232305736, f(x) = 0.015246226204645552\n",
      "x = 5.000000000000005, f(x) = 2.32305741931782e-06\n",
      "\n",
      "Convergencia alcanzada en 5 iteraciones.\n",
      "Raíz aproximada: x = 5.000000000000005, f(x) = 5.3290705182007514e-14\n"
     ]
    }
   ],
   "source": [
    "import numpy as np\n",
    "\n",
    "def newtonR4(f, df, x0):\n",
    "    x = np.array(x0, dtype=float)\n",
    "    for i in range(50):\n",
    "        fx = f(x)\n",
    "        dfx = df(x)\n",
    "        x_new = x - fx / dfx\n",
    "        print(f\"x = {x_new}, f(x) = {fx}\")\n",
    "        if np.all(np.abs(x_new - x) < 0.001):\n",
    "            print(f\"\\nConvergencia alcanzada en {i+1} iteraciones.\")\n",
    "            print(f\"Raíz aproximada: x = {x_new}, f(x) = {f(x_new)}\")\n",
    "            return x_new\n",
    "        x = x_new\n",
    "    print(\"\\nNo se alcanzó la convergencia.\")\n",
    "    print(f\"Último valor aproximado: x = {x_new}, f(x) = {f(x_new)}\")\n",
    "    return x_new\n",
    "\n",
    "\n",
    "raiz = newtonR4(f, df, 10)\n"
   ]
  },
  {
   "cell_type": "code",
   "execution_count": null,
   "id": "c439eedb-8039-44d6-b273-aaea67bd658a",
   "metadata": {},
   "outputs": [],
   "source": [
    "quinta version"
   ]
  },
  {
   "cell_type": "code",
   "execution_count": 101,
   "id": "33f72acb-38e0-4a04-a4c4-1c7f764dd784",
   "metadata": {},
   "outputs": [
    {
     "name": "stdout",
     "output_type": "stream",
     "text": [
      "x = 10, f(x) = 75\n",
      "x = 6.25, f(x) = 14.0625\n",
      "x = 5.125, f(x) = 1.265625\n",
      "x = 5.001524390243903, f(x) = 0.015246226204645552\n",
      "x = 5.000000232305736, f(x) = 2.32305741931782e-06\n",
      "\n",
      "Raíz aproximada: (5.000000000000005, 'Convergió en 5 iteraciones')\n"
     ]
    }
   ],
   "source": [
    "def newtonR5(f, df, x0):\n",
    "    x = x0\n",
    "    for i in range(50):\n",
    "        fx, dfx = f(x), df(x)\n",
    "        print(f\"x = {x}, f(x) = {fx}\") \n",
    "        if dfx == 0: \n",
    "            return None, f\"Derivada cero en iteración {i}\"\n",
    "        x_new = x - fx/dfx\n",
    "        if abs(x_new) > 1e10: \n",
    "            return None, f\"Divergencia en iteración {i}\"\n",
    "        if abs(x_new - x) < 0.001: \n",
    "            return x_new, f\"Convergió en {i+1} iteraciones\"\n",
    "        x = x_new\n",
    "    return x\n",
    "\n",
    "\n",
    "raiz = newtonR5(f, df, 10)\n",
    "print(f\"\\nRaíz aproximada: {raiz}\")\n"
   ]
  },
  {
   "cell_type": "code",
   "execution_count": null,
   "id": "bc686c6b-c121-40f9-8e33-0a3712291721",
   "metadata": {},
   "outputs": [],
   "source": []
  }
 ],
 "metadata": {
  "kernelspec": {
   "display_name": "Python [conda env:Curso]",
   "language": "python",
   "name": "conda-env-Curso-py"
  },
  "language_info": {
   "codemirror_mode": {
    "name": "ipython",
    "version": 3
   },
   "file_extension": ".py",
   "mimetype": "text/x-python",
   "name": "python",
   "nbconvert_exporter": "python",
   "pygments_lexer": "ipython3",
   "version": "3.12.8"
  }
 },
 "nbformat": 4,
 "nbformat_minor": 5
}
